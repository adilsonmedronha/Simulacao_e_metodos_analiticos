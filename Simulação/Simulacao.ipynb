{
 "cells": [
  {
   "cell_type": "markdown",
   "metadata": {},
   "source": [
    "# Simulação <br>\n",
    "Simular é aproximar, emular é igualar. <br>\n",
    "\n",
    "**Vantagens**\n",
    "\n",
    "- aproximação de um sistema real\n",
    "- resultados de qualidade\n",
    "\n",
    "**Desvantagens**\n",
    "\n",
    "- precisa de um bom gerador de números aleatórios\n",
    "- alto esforço de programação\n",
    "- (warming up) início da simulação possui alta variabilidade\n",
    "- (stop criteria) difícil determinar condições de parada\n",
    "- (long runs)  longas execuções\n",
    "\n",
    "## Geração de números pseudo-aleatórios\n",
    "\n",
    "**Objetivo** → gerar números que dêem a aparência de serem aleatórios (pseudo)\n",
    "\n",
    "- Sequência aparenta ser aleatória\n",
    "    - verificação pode ou não ser complicada\n",
    "    - **quando o ciclo começa a se repetir?**\n",
    "- Garantir um longo ciclo antes de uma repetição\n",
    "\n"
   ]
  },
  {
   "cell_type": "code",
   "execution_count": 1,
   "metadata": {},
   "outputs": [],
   "source": [
    "%matplotlib inline\n",
    "import matplotlib.pyplot as plt"
   ]
  },
  {
   "cell_type": "markdown",
   "metadata": {},
   "source": [
    "## Métodos geradores de números pseudo-aleatórios\n",
    "\n",
    "É um algoritmo que gera uma sequência de números, os quais são aproximadamente independentes um dos outros.\n",
    "\n",
    "### Método Middle Square\n",
    "[Referência](https://en.wikipedia.org/wiki/Middle-square_method) <br>\n",
    "\n",
    "\n",
    "<img src=\"https://upload.wikimedia.org/wikipedia/commons/9/92/Middle-square_method.svg\" width=250 height=200 />"
   ]
  },
  {
   "cell_type": "code",
   "execution_count": 2,
   "metadata": {},
   "outputs": [],
   "source": [
    "def middle_square(seed, n_random_digits, random_n_precision):\n",
    "    xs = []\n",
    "    pseudo_rnd_numbers = []\n",
    "    rnd_2n_precision, n_i  = random_n_precision * 2, 1\n",
    "    while n_i < n_random_digits:\n",
    "        seed_squared = str(int(seed)**2)\n",
    "        if len(seed_squared) % rnd_2n_precision:\n",
    "            seed_squared = (rnd_2n_precision - len(seed_squared)) * '0' + seed_squared \n",
    "        aux = seed\n",
    "        seed = seed_squared[2:6]\n",
    "        print('{}. {}^2 = {}[{}]{}'.format(n_i, aux, seed_squared[0:2], seed,seed_squared[6:8]))\n",
    "        xs.append(n_i)\n",
    "        pseudo_rnd_numbers.append(seed)\n",
    "        n_i += 1\n",
    "    return xs, pseudo_rnd_numbers"
   ]
  },
  {
   "cell_type": "code",
   "execution_count": 3,
   "metadata": {},
   "outputs": [
    {
     "name": "stdout",
     "output_type": "stream",
     "text": [
      "1. 5437^2 = 29[5609]69\n",
      "2. 5609^2 = 31[4608]81\n",
      "3. 4608^2 = 21[2336]64\n",
      "4. 2336^2 = 05[4568]96\n",
      "5. 4568^2 = 20[8666]24\n",
      "6. 8666^2 = 75[0995]56\n",
      "7. 0995^2 = 00[9900]25\n",
      "8. 9900^2 = 98[0100]00\n",
      "9. 0100^2 = 00[0100]00\n",
      "10. 0100^2 = 00[0100]00\n",
      "11. 0100^2 = 00[0100]00\n",
      "12. 0100^2 = 00[0100]00\n",
      "13. 0100^2 = 00[0100]00\n",
      "14. 0100^2 = 00[0100]00\n",
      "graph: \n"
     ]
    },
    {
     "data": {
      "image/png": "[encoded data removed]",
      "text/plain": [
       "<Figure size 432x288 with 1 Axes>"
      ]
     },
     "metadata": {
      "needs_background": "light"
     },
     "output_type": "display_data"
    }
   ],
   "source": [
    "xs, ys = middle_square(seed=5437, n_random_digits=15, random_n_precision=4)\n",
    "print('graph: ')\n",
    "plt.plot(xs, ys, '+')\n",
    "plt.show()"
   ]
  },
  {
   "cell_type": "markdown",
   "metadata": {},
   "source": [
    "Observe que quando a semente passa a ser $100$, nos deparamos com um ciclo, <br>\n",
    "*i.e., o número pseudo aleatório [$x_0,x_1,x_2,x_3$] invariavelmente é 00[0100]00* <br>\n",
    "E é por isso que esse método não usado, basta poucas computações (nesse exemplo: $14$) <br>\n",
    "que os números gerados começam a se repetir (deixa de ser estocástico facilmente)."
   ]
  },
  {
   "cell_type": "markdown",
   "metadata": {},
   "source": [
    "## Método Congruente Linear\n",
    "**Exercício:** <br>\n",
    "\n",
    "Utilizando o conceito do método Congruente Linear para geração de números pseudo-aleatórios, programe um método que gere 1.000 (mil) números (entre os valores 0 e 1) a fim de produzir um gráfico de dispersão conforme apresentado no material de apoio de aula. "
   ]
  },
  {
   "cell_type": "markdown",
   "metadata": {},
   "source": [
    "* $x_0$: determina a sequência discreta\n",
    "* $M$: determina o valor máximo gerado pela sequência\n",
    "* $c$: é uma constante usada para **maior** variação dos números gerados"
   ]
  },
  {
   "cell_type": "code",
   "execution_count": 4,
   "metadata": {},
   "outputs": [],
   "source": [
    "def congruente_linear(a, x_0, M, c, n):\n",
    "    n_i = 0\n",
    "    x_prev = x_0\n",
    "    pseudo_rnd_numbers = []\n",
    "    xs = []\n",
    "    while n_i < n:\n",
    "        x_i = (a * x_prev + c) % M\n",
    "        pseudo_rnd_numbers.append(x_i/M)\n",
    "        xs.append(n_i / n)\n",
    "        x_prev = x_i\n",
    "        n_i += 1\n",
    "    return xs, pseudo_rnd_numbers"
   ]
  },
  {
   "cell_type": "markdown",
   "metadata": {},
   "source": [
    "A escolha dos parâmetros muito influencia no resultado do gerador. <br>\n",
    "Logo, eu segui a recomendação do artigo [***TABLES OF LINEAR CONGRUENTIAL GENERATORS\n",
    "OF DIFFERENT SIZES AND GOOD LATTICE STRUCTURE***](https://www.ams.org/journals/mcom/1999-68-225/S0025-5718-99-00996-5/S0025-5718-99-00996-5.pdf). <br>\n",
    "\n",
    "A configuração dos parâmetros fundamentais do meu gerador é dada por: <br>\n",
    "\n",
    "* $M = 2^e$ \n",
    "* $a = 438293613$\n",
    "* $c$ = ímpar \n"
   ]
  },
  {
   "cell_type": "code",
   "execution_count": 7,
   "metadata": {},
   "outputs": [
    {
     "data": {
      "image/png": "[encoded data removed]",
      "text/plain": [
       "<Figure size 432x288 with 1 Axes>"
      ]
     },
     "metadata": {
      "needs_background": "light"
     },
     "output_type": "display_data"
    }
   ],
   "source": [
    "from math import e\n",
    "xs, ys = congruente_linear(a=438293613, x_0=0.001, M=2**e, c=1013904223, n=1000)\n",
    "plt.plot(xs, ys, '+')\n",
    "plt.xlim([0, 1])\n",
    "plt.ylim([0, 1])\n",
    "plt.show()"
   ]
  }
 ],
 "metadata": {
  "interpreter": {
   "hash": "ce0ca71b78e95fe3393162eec3e9518641cb7c9da48d8632540bafc17ece7bf7"
  },
  "kernelspec": {
   "display_name": "Python 3.8.12 ('projOtimizacao')",
   "language": "python",
   "name": "python3"
  },
  "language_info": {
   "codemirror_mode": {
    "name": "ipython",
    "version": 3
   },
   "file_extension": ".py",
   "mimetype": "text/x-python",
   "name": "python",
   "nbconvert_exporter": "python",
   "pygments_lexer": "ipython3",
   "version": "3.8.12"
  },
  "orig_nbformat": 4
 },
 "nbformat": 4,
 "nbformat_minor": 2
}
